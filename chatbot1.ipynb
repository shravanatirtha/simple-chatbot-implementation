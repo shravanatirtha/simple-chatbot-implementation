{
 "cells": [
  {
   "cell_type": "code",
   "execution_count": null,
   "id": "8b62f4ce-81ad-4342-b444-a31c1e5b3300",
   "metadata": {},
   "outputs": [
    {
     "name": "stdout",
     "output_type": "stream",
     "text": [
      "Bot: Hey Pal! What do you want me to call you?\n"
     ]
    },
    {
     "name": "stdin",
     "output_type": "stream",
     "text": [
      " shravana\n"
     ]
    },
    {
     "name": "stdout",
     "output_type": "stream",
     "text": [
      "Bot: Hi shravana\n"
     ]
    },
    {
     "name": "stdin",
     "output_type": "stream",
     "text": [
      " hey\n"
     ]
    },
    {
     "name": "stdout",
     "output_type": "stream",
     "text": [
      "shravana : hey\n",
      "Berry Bot : Hey there\n"
     ]
    },
    {
     "name": "stdin",
     "output_type": "stream",
     "text": [
      " hello\n"
     ]
    },
    {
     "name": "stdout",
     "output_type": "stream",
     "text": [
      "shravana : hello\n",
      "Berry Bot : Hi dood\n"
     ]
    }
   ],
   "source": [
    "import random\n",
    "print(\"Bot: Hey Pal! What do you want me to call you?\")\n",
    "user_name = input()\n",
    "print(\"Bot: Hi \"+user_name)\n",
    "bot_template = \"Berry Bot : {0}\"\n",
    "user_template = user_name + \" : {0}\"\n",
    "name = \"Berry Bot\" \n",
    "weather = \"rainy\" \n",
    "mood = \"Happy\"\n",
    "responses = {\n",
    "    \"what's your name?\": [\n",
    "        \"They call me {0}\".format(name),\n",
    "        \"I usually go by {0}\".format(name),\n",
    "        \"My name is the {0}\".format(name) ],\n",
    "    \n",
    "    \"i'm good\": [\n",
    "        \"Great!\",\n",
    "        \"Nice\", ],\n",
    "    \n",
    "     \"hey\": [\n",
    "        \"Hi friend\",\n",
    "        \"Hey there\", ],\n",
    "    \n",
    "    \"hello\": [\n",
    "        \"Hi dood\",\n",
    "        \"Hey Buddy\", ],\n",
    "    \n",
    "    \"what's today's weather?\": [ \n",
    "        \"The weather is {0}\".format(weather),\n",
    "        \"It's {0} today\".format(weather), \n",
    "        \"Let me check, it looks {0} today\".format(weather) ],\n",
    "    \n",
    "    \"are you a robot?\": [ \n",
    "        \"What do you think?\", \n",
    "        \"Maybe yes, maybe no!\", \n",
    "        \"Yes, I am a robot with human feelings.\", ],\n",
    "    \n",
    "    \"how are you?\": [ \n",
    "        \"I am feeling {0} How about you?\".format(mood), \n",
    "        \"{0}! How about you?\".format(mood), \n",
    "        \"I am {0}! How about yourself?\".format(mood), ],\n",
    "    \"\": [\n",
    "        \"Sorry, I coudn't understand\",\n",
    "        \"Can I help you with anything else?\",\n",
    "        \"Try talking something else\", ],\n",
    "    \n",
    "    \n",
    "#     \"\": [ \n",
    "#         \"Hey! Are you there?\",\n",
    "#         \"What do you mean by saying nothing?\", \n",
    "#         \"Sometimes saying nothing tells a lot :)\", ],\n",
    "    \n",
    "    \"default\": [\n",
    "        \"I am Berry Bot. Your Pathberries chat partner.\"] }\n",
    "\n",
    "def respond(message):\n",
    "    if message in responses: \n",
    "        bot_message = random.choice(responses[message])\n",
    "    else: \n",
    "        bot_message = random.choice(responses[\"default\"])\n",
    "    return bot_message\n",
    "\n",
    "def related(x_text): \n",
    "    if \"name\" in x_text: \n",
    "        y_text = \"what's your name?\"\n",
    "    elif \"weather\" in x_text: \n",
    "        y_text = \"what's today's weather?\"\n",
    "    elif \"robot\" in x_text: \n",
    "        y_text = \"are you a robot?\"\n",
    "    elif \"how are\" in x_text: \n",
    "        y_text = \"how are you?\"\n",
    "    elif \"hello\" in x_text: \n",
    "        y_text = \"hello\"\n",
    "    elif \"ask me anything\" in x_text: \n",
    "        y_text = \"\"\n",
    "    elif \"hey\" in x_text: \n",
    "        y_text = \"hey\"\n",
    "    elif \"i'm good\" in x_text: \n",
    "        y_text = \"i'm good\"\n",
    "    else: \n",
    "        y_text = \"\"\n",
    "    return y_text\n",
    "\n",
    "def send_message(message): \n",
    "    print(user_template.format(message)) \n",
    "    response = respond(message) \n",
    "    print(bot_template.format(response))\n",
    "\n",
    "while 1: \n",
    "    my_input = input()\n",
    "    my_input = my_input.lower() \n",
    "    related_text = related(my_input) \n",
    "    send_message(related_text)\n",
    "    if my_input == \"exit\" or my_input == \"stop\": \n",
    "        break"
   ]
  },
  {
   "cell_type": "code",
   "execution_count": null,
   "id": "e343115f-18cc-4db6-9e01-7da4fe5132a5",
   "metadata": {},
   "outputs": [],
   "source": []
  }
 ],
 "metadata": {
  "kernelspec": {
   "display_name": "Python 3",
   "language": "python",
   "name": "python3"
  },
  "language_info": {
   "codemirror_mode": {
    "name": "ipython",
    "version": 3
   },
   "file_extension": ".py",
   "mimetype": "text/x-python",
   "name": "python",
   "nbconvert_exporter": "python",
   "pygments_lexer": "ipython3",
   "version": "3.9.5"
  }
 },
 "nbformat": 4,
 "nbformat_minor": 5
}
